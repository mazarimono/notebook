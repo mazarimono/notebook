{
 "cells": [
  {
   "cell_type": "code",
   "execution_count": 17,
   "metadata": {},
   "outputs": [],
   "source": [
    "from jupyter_dash import JupyterDash\n",
    "import dash_core_components as dcc \n",
    "import dash_html_components as html \n",
    "import pandas as pd\n",
    "import plotly.express as px\n",
    "from datetime import date\n",
    "\n",
    "from dash.dependencies import Input, Output, State, ALL, MATCH, ALLSMALLER"
   ]
  },
  {
   "cell_type": "markdown",
   "metadata": {},
   "source": [
    "### HELLO WEB+DB PRESS APP"
   ]
  },
  {
   "cell_type": "code",
   "execution_count": 2,
   "metadata": {},
   "outputs": [
    {
     "data": {
      "text/html": [
       "\n",
       "        <iframe\n",
       "            width=\"800\"\n",
       "            height=\"650\"\n",
       "            src=\"http://127.0.0.1:8050/\"\n",
       "            frameborder=\"0\"\n",
       "            allowfullscreen\n",
       "        ></iframe>\n",
       "        "
      ],
      "text/plain": [
       "<IPython.lib.display.IFrame at 0x1fdcb86a880>"
      ]
     },
     "metadata": {},
     "output_type": "display_data"
    }
   ],
   "source": [
    "app = JupyterDash(__name__)\n",
    "\n",
    "app.layout = html.H1('Hello WEB+DB PRESS')\n",
    "\n",
    "app.run_server(mode='inline')"
   ]
  },
  {
   "cell_type": "markdown",
   "metadata": {},
   "source": [
    "### With Image App"
   ]
  },
  {
   "cell_type": "code",
   "execution_count": 5,
   "metadata": {},
   "outputs": [
    {
     "data": {
      "text/html": [
       "\n",
       "        <iframe\n",
       "            width=\"800\"\n",
       "            height=\"650\"\n",
       "            src=\"http://127.0.0.1:8050/\"\n",
       "            frameborder=\"0\"\n",
       "            allowfullscreen\n",
       "        ></iframe>\n",
       "        "
      ],
      "text/plain": [
       "<IPython.lib.display.IFrame at 0x1fdcb947580>"
      ]
     },
     "metadata": {},
     "output_type": "display_data"
    }
   ],
   "source": [
    "app = JupyterDash(__name__)\n",
    "\n",
    "app.layout = html.Div([\n",
    "    html.P('Show Image', style={'backgroundColor': 'red', 'color': 'white'}),\n",
    "    html.Img(src='assets/kyoto2.png')\n",
    "])\n",
    "app.run_server(mode='inline')"
   ]
  },
  {
   "cell_type": "markdown",
   "metadata": {},
   "source": [
    "### グラフの表示"
   ]
  },
  {
   "cell_type": "code",
   "execution_count": 8,
   "metadata": {},
   "outputs": [
    {
     "data": {
      "text/html": [
       "\n",
       "        <iframe\n",
       "            width=\"800\"\n",
       "            height=\"650\"\n",
       "            src=\"http://127.0.0.1:8050/\"\n",
       "            frameborder=\"0\"\n",
       "            allowfullscreen\n",
       "        ></iframe>\n",
       "        "
      ],
      "text/plain": [
       "<IPython.lib.display.IFrame at 0x1fdcb9163a0>"
      ]
     },
     "metadata": {},
     "output_type": "display_data"
    }
   ],
   "source": [
    "df = pd.read_csv('data/kakei_data.csv', index_col=0, parse_dates=['date'])\n",
    "\n",
    "app = JupyterDash(__name__)\n",
    "\n",
    "app.layout = html.Div([\n",
    "    html.H1('Graphコンポーネントの利用'),\n",
    "    \n",
    "    dcc.Graph(\n",
    "        figure=px.line(df, x='date', y='スポーツ', title='スポーツ支出')\n",
    "    )\n",
    "])\n",
    "\n",
    "app.run_server(mode='inline')"
   ]
  },
  {
   "cell_type": "markdown",
   "metadata": {},
   "source": [
    "### MARKDOWN"
   ]
  },
  {
   "cell_type": "code",
   "execution_count": 10,
   "metadata": {},
   "outputs": [
    {
     "data": {
      "text/html": [
       "\n",
       "        <iframe\n",
       "            width=\"800\"\n",
       "            height=\"650\"\n",
       "            src=\"http://127.0.0.1:8050/\"\n",
       "            frameborder=\"0\"\n",
       "            allowfullscreen\n",
       "        ></iframe>\n",
       "        "
      ],
      "text/plain": [
       "<IPython.lib.display.IFrame at 0x1fddac76ac0>"
      ]
     },
     "metadata": {},
     "output_type": "display_data"
    }
   ],
   "source": [
    "app = JupyterDash(__name__)\n",
    "\n",
    "app.layout = dcc.Markdown('''\n",
    "    # Markdownを使います\n",
    "    ## Dash Components\n",
    "    ### dash html components\n",
    "    - htmlタグを提供します\n",
    "    ### dash core components \n",
    "    - 様々なツールを提供します\n",
    "''', style={\"color\": 'green', 'backgroundColor': 'black', 'padding': '2%'})\n",
    "\n",
    "app.run_server(mode='inline')"
   ]
  },
  {
   "cell_type": "code",
   "execution_count": 12,
   "metadata": {},
   "outputs": [
    {
     "data": {
      "text/html": [
       "\n",
       "        <iframe\n",
       "            width=\"800\"\n",
       "            height=\"650\"\n",
       "            src=\"http://127.0.0.1:8050/\"\n",
       "            frameborder=\"0\"\n",
       "            allowfullscreen\n",
       "        ></iframe>\n",
       "        "
      ],
      "text/plain": [
       "<IPython.lib.display.IFrame at 0x1fdcb947910>"
      ]
     },
     "metadata": {},
     "output_type": "display_data"
    }
   ],
   "source": [
    "from datetime import date\n",
    "\n",
    "app = JupyterDash(__name__)\n",
    "\n",
    "four_styles = {'margin': '3%',\n",
    "                'width': '40%',\n",
    "                'display': 'inline-block',\n",
    "                'verticalAlign': 'top'}\n",
    "selection = ['tokyo', 'osaka', 'fukuoka']\n",
    "\n",
    "app.layout = html.Div([    \n",
    "    html.Div([dcc.Dropdown(options=[{'value': i, 'label': i} for i in selection],\n",
    "                value='tokyo')], style=four_styles),\n",
    "    html.Div([\n",
    "        dcc.Input(placeholder='文字を入力してください'),\n",
    "        ], style=four_styles),\n",
    "    html.Div([\n",
    "        dcc.DatePickerRange(start_date=date(2017, 12, 18), end_date=date(2020, 6,22),),\n",
    "        ],style=four_styles),\n",
    "    html.Div([\n",
    "            html.Button('HELLO PUSH ME')\n",
    "        ], style=four_styles)\n",
    "])\n",
    "\n",
    "app.run_server(mode='inline')"
   ]
  },
  {
   "cell_type": "code",
   "execution_count": 15,
   "metadata": {},
   "outputs": [
    {
     "data": {
      "text/html": [
       "\n",
       "        <iframe\n",
       "            width=\"800\"\n",
       "            height=\"650\"\n",
       "            src=\"http://127.0.0.1:8050/\"\n",
       "            frameborder=\"0\"\n",
       "            allowfullscreen\n",
       "        ></iframe>\n",
       "        "
      ],
      "text/plain": [
       "<IPython.lib.display.IFrame at 0x1fddc47b2b0>"
      ]
     },
     "metadata": {},
     "output_type": "display_data"
    }
   ],
   "source": [
    "app = JupyterDash(__name__)\n",
    "\n",
    "graph_type_list = [px.line, px.scatter, px.bar]\n",
    "\n",
    "app.layout = html.Div([\n",
    "    dcc.Dropdown(\n",
    "        id = 'my_dropdown',\n",
    "        options = [{'label': type_.__name__, 'value': num} for num, type_ in enumerate(graph_type_list)],\n",
    "        value = 0\n",
    "    ),\n",
    "    html.Button(\n",
    "        id='my_button',\n",
    "        children='Update Graph'\n",
    "    ),\n",
    "    dcc.Graph(\n",
    "        id='my_graph',\n",
    "    ),\n",
    "])\n",
    "\n",
    "@app.callback(Output('my_graph', 'figure'),\n",
    "             [Input('my_button', 'n_clicks')],\n",
    "            [State('my_dropdown', 'value')]\n",
    "            )\n",
    "def update_graph(n_clicks, selected_value):\n",
    "    return graph_type_list[selected_value](x=[1,2,3,4,5], y=[1,2,3,4,5])\n",
    "\n",
    "app.run_server(mode='inline')"
   ]
  },
  {
   "cell_type": "code",
   "execution_count": 18,
   "metadata": {},
   "outputs": [
    {
     "data": {
      "text/html": [
       "\n",
       "        <iframe\n",
       "            width=\"800\"\n",
       "            height=\"650\"\n",
       "            src=\"http://127.0.0.1:8050/\"\n",
       "            frameborder=\"0\"\n",
       "            allowfullscreen\n",
       "        ></iframe>\n",
       "        "
      ],
      "text/plain": [
       "<IPython.lib.display.IFrame at 0x1fddc42adf0>"
      ]
     },
     "metadata": {},
     "output_type": "display_data"
    }
   ],
   "source": [
    "df = pd.read_csv('data/kakei_data.csv', index_col=0, parse_dates=['date'])\n",
    "df.iloc[:, :-1] = df.iloc[:, :-1].astype('float')\n",
    "\n",
    "app = JupyterDash(__name__)\n",
    "\n",
    "app.layout = html.Div([    \n",
    "    html.Button(id='my_button', children='PUSH ME'),\n",
    "    html.Div(id='my_div', children=[])\n",
    "])\n",
    "\n",
    "\n",
    "@app.callback(Output('my_div', 'children'),\n",
    "            [Input('my_button', 'n_clicks')],\n",
    "            [State('my_div', 'children')],\n",
    "            prevent_initial_call=True)\n",
    "def add_components(n_clicks, children):\n",
    "    new_components = html.Div([\n",
    "        dcc.Dropdown(id={'type': 'graph_dropdown',\n",
    "                        'index': n_clicks\n",
    "                        },\n",
    "                    options = [{'label': c, 'value': c} for c in list(df.columns[:-1])],\n",
    "                    value = [df.columns[:-1][n_clicks]],\n",
    "                    multi=True\n",
    "                    ),\n",
    "        dcc.Graph(id={'type':'my_graph', 'index': n_clicks})\n",
    "    ])\n",
    "    children.append(new_components)\n",
    "    return children\n",
    "\n",
    "@app.callback(Output({'type': 'my_graph', 'index': MATCH}, 'figure'),\n",
    "            [Input({'type': 'graph_dropdown', 'index': MATCH}, 'value')])\n",
    "def update_graph(selected_value):\n",
    "    return px.line(df, x='date', y=selected_value)\n",
    "\n",
    "app.run_server(mode='inline')"
   ]
  },
  {
   "cell_type": "markdown",
   "metadata": {},
   "source": [
    "## コロナ感染者数アプリ"
   ]
  },
  {
   "cell_type": "code",
   "execution_count": 20,
   "metadata": {},
   "outputs": [],
   "source": [
    "# パッケージ呼び出し部分\n",
    "import dash\n",
    "import os \n",
    "\n",
    "import dash_core_components as dcc\n",
    "import dash_html_components as html\n",
    "from dash.dependencies import Input, Output, State, ALL, MATCH\n",
    "import plotly.express as px\n",
    "import plotly.graph_objects as go\n",
    "import pandas as pd\n",
    "\n",
    "\n",
    "\"\"\"\n",
    "\n",
    "COVID19-JAPAN: アプリケーションアイデア\n",
    "- 地図はコロプレスに変更するかなぁ。あんまりおもしろくない。\n",
    "- コードのコメントは丁寧に作る\n",
    "\n",
    "\"\"\"\n",
    "# 作成の準備部分（トークン読み込み、処理に用いる関数、CSS、データの読み込み作成）\n",
    "## マップボックスのAPIトークンの読み込み\n",
    "px.set_mapbox_access_token(\n",
    "    'your_token'\n",
    ")\n",
    "\n",
    "## 処理に用いる関数\n",
    "### コールバックで追加する新たなレイアウトを作成する\n",
    "### 引数は各コンポーネントのIDとボタンのクリック回数\n",
    "def two_graphs(dropdown_id, graph1_id, graph2_id, button_id, click_count):\n",
    "    prefs = df[\"居住都道府県\"].unique()\n",
    "    two_graphs_parts = html.Div(\n",
    "        [\n",
    "            dcc.Dropdown(\n",
    "                id=dropdown_id,\n",
    "                options=[{\"label\": i, \"value\": i} for i in prefs],\n",
    "                value=[prefs[click_count]],\n",
    "                multi=True,\n",
    "            ),\n",
    "            html.Div(\n",
    "                [\n",
    "                    dcc.Graph(id=graph1_id),\n",
    "                ],\n",
    "                style=half_div,\n",
    "            ),\n",
    "            html.Div(\n",
    "                [\n",
    "                    dcc.Graph(id=graph2_id),\n",
    "                ],\n",
    "                style=half_div,\n",
    "            ),\n",
    "            html.Button(\"各都道府県のデータを調べる\", id=button_id, n_clicks=0),\n",
    "        ]\n",
    "    )\n",
    "    return two_graphs_parts\n",
    "\n",
    "## CSS\n",
    "### カウンター用\n",
    "box_style = {\n",
    "    \"width\": \"30%\",\n",
    "    \"display\": \"inline-block\",\n",
    "    \"verticalAlign\": \"top\",\n",
    "    \"textAlign\": \"center\",\n",
    "    \"backgroundColor\": 'lime',\n",
    "    'margin': '1%'\n",
    "}\n",
    "### グラフを2つ横に並べる\n",
    "half_div = {\"width\": \"48%\", \"margin\": \"1%\", \"display\": \"inline-block\", \"verticalAlign\": \"top\"}\n",
    "\n",
    "## データの読み込み\n",
    "\n",
    "df = pd.read_csv(\"data/covid19_data.csv\", index_col=0, parse_dates=[\"確定日\"])\n",
    "## 都道府県でグループバイしたものをカウントしたものと都道府県の座標を平均したものを\n",
    "## 作成し、マージする。\n",
    "df1 = df.groupby(\"居住都道府県\", as_index=False)[\"count\"].count()\n",
    "df2 = df.groupby(\"居住都道府県\", as_index=False)[[\"X\", \"Y\"]].mean()\n",
    "df3 = df1.merge(df2)\n",
    "\n",
    "### データの作成\n",
    "\n",
    "total_count = len(df)\n",
    "new_date = df[\"確定日\"].max()\n",
    "new_total = len(df[df[\"確定日\"] == new_date])\n",
    "\n",
    "### 日本全体のダッシュボードのツリーマップで用いるデータの作成\n",
    "df_age_sex = df.groupby([\"年代\", \"性別\"], as_index=False).sum()\n",
    "df_age_sex[\"日本\"] = \"日本\"\n",
    "\n",
    "ex_sheets = ['https://codepen.io/chriddyp/pen/bWLwgP.css']\n",
    "\n",
    "app = JupyterDash(__name__, external_stylesheets=ex_sheets)\n",
    "\n",
    "# レイアウト部分\n",
    "\n",
    "app.layout = html.Div(\n",
    "    [\n",
    "        html.Div(\n",
    "            [\n",
    "                html.H1(\"新型コロナ:日本の感染者数\"),\n",
    "                html.H3(f\"更新日: {new_date.date()}\"),\n",
    "                html.Div(\n",
    "                    [\n",
    "                        html.Div(\n",
    "                            [\n",
    "                                html.H3(\n",
    "                                    \"全国の総感染者数\",\n",
    "                                    style={\"textAlign\": \"center\", \"padding\": 0},\n",
    "                                ),\n",
    "                                html.H1(\n",
    "                                    f\"{total_count}人\",\n",
    "                                    style={\"textAlign\": \"center\", \"padding\": 0},\n",
    "                                ),\n",
    "                            ],\n",
    "                            style=box_style,\n",
    "                        ),\n",
    "                        html.Div(\n",
    "                            [\n",
    "                                html.H3(\n",
    "                                    \"全国の新規感染者数\",\n",
    "                                    style={\"textAlign\": \"center\", \"padding\": 0},\n",
    "                                ),\n",
    "                                html.H1(\n",
    "                                    f\"{new_total}人\",\n",
    "                                    style={\"textAlign\": \"center\", \"padding\": 0},\n",
    "                                ),\n",
    "                            ],\n",
    "                            style=box_style,\n",
    "                        ),\n",
    "                    ]\n",
    "                ),\n",
    "                html.Div(\n",
    "                    [\n",
    "                        html.Div(\n",
    "                            [\n",
    "                                dcc.RadioItems(\n",
    "                                    id=\"jp_radio\",\n",
    "                                    options=[\n",
    "                                        {\"label\": i, \"value\": i} for i in [\"累計\", \"日別\"]\n",
    "                                    ],\n",
    "                                    value=\"累計\",\n",
    "                                ),\n",
    "                                dcc.Graph(id=\"graph1\"),\n",
    "                            ],\n",
    "                            style=half_div,\n",
    "                        ),\n",
    "                        html.Div([\n",
    "                            dcc.Graph(figure=px.treemap(\n",
    "                            df_age_sex, path=[\"日本\", \"年代\", \"性別\"], values=\"count\",\n",
    "                        )),], style=half_div,),\n",
    "                    ]\n",
    "                ),\n",
    "                html.Div(\n",
    "                    [\n",
    "                        # ここに地図を載せたいがどうしたらよいか考える\n",
    "                        dcc.Graph(\n",
    "                            figure=px.scatter_mapbox(\n",
    "                                df3,\n",
    "                                lat=\"Y\",\n",
    "                                lon=\"X\",\n",
    "                                size=\"count\",\n",
    "                                hover_name=\"居住都道府県\",\n",
    "                                color=\"count\",\n",
    "                                zoom=3,\n",
    "                                center={\"lat\": 35.6706, \"lon\": 139.772},\n",
    "                            )\n",
    "                        )\n",
    "                    ]\n",
    "                ),\n",
    "                html.Div(\n",
    "                    [\n",
    "                        html.Button(\n",
    "                            \"各都道府県のデータを調べる\", id={\"type\": \"add_data\", \"index\": 0}\n",
    "                        ),\n",
    "                        html.Div(id=\"add_tools\", children=[]),\n",
    "                    ]\n",
    "                ),\n",
    "            ],\n",
    "            style={\"padding\": \"3%\"},\n",
    "        ),\n",
    "    ],\n",
    "    style={\"padding\": \"3%\"},\n",
    ")\n",
    "\n",
    "\n",
    "# コールバック１　\n",
    "## 全国のダッシュボードの累計感染者数、新規感染者数のグラフの切り替え\n",
    "@app.callback(Output(\"graph1\", \"figure\"), [Input(\"jp_radio\", \"value\")])\n",
    "def update_graph1(selected_value):\n",
    "    jp_df = df.groupby(\"確定日\", as_index=False).sum()\n",
    "    jp_df[\"確定日\"] = pd.to_datetime(jp_df[\"確定日\"])\n",
    "    jp_df = jp_df.sort_values(\"確定日\")\n",
    "    jp_df[\"cumsum\"] = jp_df[\"count\"].cumsum()\n",
    "\n",
    "    if selected_value == \"日別\":\n",
    "        return px.bar(jp_df, x=\"確定日\", y=\"count\", title=\"新規感染者数\")\n",
    "    return px.area(jp_df, x=\"確定日\", y=\"cumsum\", title='累計感染者数')\n",
    "\n",
    "# コールバック2\n",
    "## ボタンをクリックすると新たなレイアウトが生成される\n",
    "@app.callback(\n",
    "    Output(\"add_tools\", \"children\"),\n",
    "    [Input({\"type\": \"add_data\", \"index\": ALL}, \"n_clicks\")],\n",
    "    [State(\"add_tools\", \"children\")],\n",
    "    prevent_initial_call=True,\n",
    ")\n",
    "def add_tools(n_list, existing_children):\n",
    "    n_clicks = sum(n_list)\n",
    "    if n_clicks > 57:\n",
    "        raise dash.exceptions.PreventUpdate\n",
    "    add_div_tool = two_graphs(\n",
    "        {\"type\": \"drop_down\", \"index\": n_clicks},\n",
    "        {\"type\": \"bar_graph\", \"index\": n_clicks},\n",
    "        {\"type\": \"tree_map\", \"index\": n_clicks},\n",
    "        {\"type\": \"add_data\", \"index\": n_clicks},\n",
    "        n_clicks,\n",
    "    )\n",
    "    existing_children.append(add_div_tool)\n",
    "    return existing_children\n",
    "\n",
    "## コールバック3\n",
    "### 新たに追加されたレイアウトでの、ドロップダウンの選択をグラフに反映する\n",
    "@app.callback(\n",
    "    [\n",
    "        Output({\"type\": \"bar_graph\", \"index\": MATCH}, \"figure\"),\n",
    "        Output({\"type\": \"tree_map\", \"index\": MATCH}, \"figure\"),\n",
    "    ],\n",
    "    [\n",
    "        Input({\"type\": \"drop_down\", \"index\": MATCH}, \"value\"),\n",
    "    ],\n",
    ")\n",
    "def update_tools(dropdown_value):\n",
    "    if dropdown_value:\n",
    "        df_pref = df[df[\"居住都道府県\"].isin(dropdown_value)]\n",
    "        df_pref_date = df_pref.groupby(['確定日', '居住都道府県'], as_index=False).sum()\n",
    "        df_pref_groupby_date_sex = df_pref.groupby(['居住都道府県', \"年代\", \"性別\"], as_index=False).sum()\n",
    "        df_pref_groupby_date_sex['選択都道府県'] = '選択都道府県'\n",
    "        return (\n",
    "                px.bar(df_pref_date, x=\"確定日\", y=\"count\", color='居住都道府県'),\n",
    "                px.treemap(df_pref_groupby_date_sex, path=['選択都道府県', '居住都道府県', \"年代\", \"性別\"], values=\"count\"),\n",
    "            )\n",
    "    \n",
    "    return dash.no_update\n",
    "\n",
    "\n",
    "\n",
    "app.run_server(mode='jupyterlab')"
   ]
  },
  {
   "cell_type": "code",
   "execution_count": null,
   "metadata": {},
   "outputs": [],
   "source": []
  }
 ],
 "metadata": {
  "kernelspec": {
   "display_name": "Python 3",
   "language": "python",
   "name": "python3"
  },
  "language_info": {
   "codemirror_mode": {
    "name": "ipython",
    "version": 3
   },
   "file_extension": ".py",
   "mimetype": "text/x-python",
   "name": "python",
   "nbconvert_exporter": "python",
   "pygments_lexer": "ipython3",
   "version": "3.8.3"
  }
 },
 "nbformat": 4,
 "nbformat_minor": 4
}
